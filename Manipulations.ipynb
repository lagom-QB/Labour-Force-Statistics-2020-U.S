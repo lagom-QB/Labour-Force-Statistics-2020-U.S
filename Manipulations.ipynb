{
 "cells": [
  {
   "cell_type": "code",
   "execution_count": 1,
   "metadata": {},
   "outputs": [],
   "source": [
    "import pandas as pd\n",
    "import seaborn as sns\n",
    "import numpy as np"
   ]
  },
  {
   "cell_type": "markdown",
   "metadata": {},
   "source": [
    "### _Number in thousands_"
   ]
  },
  {
   "cell_type": "code",
   "execution_count": 2,
   "metadata": {},
   "outputs": [
    {
     "output_type": "execute_result",
     "data": {
      "text/plain": [
       "                Occupations Total Employed Women White  \\\n",
       "0  Total, 16 years and over         147795  46.8    78   \n",
       "\n",
       "  Black or African American Asian Hispanic or Latino  \n",
       "0                      12.1   6.4               17.6  "
      ],
      "text/html": "<div>\n<style scoped>\n    .dataframe tbody tr th:only-of-type {\n        vertical-align: middle;\n    }\n\n    .dataframe tbody tr th {\n        vertical-align: top;\n    }\n\n    .dataframe thead th {\n        text-align: right;\n    }\n</style>\n<table border=\"1\" class=\"dataframe\">\n  <thead>\n    <tr style=\"text-align: right;\">\n      <th></th>\n      <th>Occupations</th>\n      <th>Total Employed</th>\n      <th>Women</th>\n      <th>White</th>\n      <th>Black or African American</th>\n      <th>Asian</th>\n      <th>Hispanic or Latino</th>\n    </tr>\n  </thead>\n  <tbody>\n    <tr>\n      <th>0</th>\n      <td>Total, 16 years and over</td>\n      <td>147795</td>\n      <td>46.8</td>\n      <td>78</td>\n      <td>12.1</td>\n      <td>6.4</td>\n      <td>17.6</td>\n    </tr>\n  </tbody>\n</table>\n</div>"
     },
     "metadata": {},
     "execution_count": 2
    }
   ],
   "source": [
    "data = pd.read_excel('cpsaat11.xlsx')\n",
    "\n",
    "data = data.rename(columns = {'HOUSEHOLD DATA\\nANNUAL AVERAGES\\n11.  Employed persons by detailed occupation, sex, race, and Hispanic or Latino ethnicity':'Occupations',\n",
    "                       'Unnamed: 1':'Total Employed', \n",
    "                       'Unnamed: 2':'Women', \n",
    "                       'Unnamed: 3':'White', \n",
    "                       'Unnamed: 4':'Black or African American', \n",
    "                       'Unnamed: 5':'Asian',\n",
    "                       'Unnamed: 6':'Hispanic or Latino'\n",
    "                              }\n",
    "                   )\n",
    "\n",
    "information = data.iloc[6].to_frame()\n",
    "\"\"\"\n",
    "data = data.iloc[4:]\n",
    "data\"\"\"\n",
    "\n",
    "new_header  = information.iloc[0] \n",
    "information = information[1:] \n",
    "\n",
    "information.columns = new_header\n",
    "\n",
    "information = information.T\n",
    "information = information.reset_index(drop = False).rename(columns={'index':'Groups'})\n",
    "information"
   ]
  },
  {
   "source": [
    "## Manipulations "
   ],
   "cell_type": "markdown",
   "metadata": {}
  },
  {
   "cell_type": "code",
   "execution_count": 3,
   "metadata": {},
   "outputs": [
    {
     "output_type": "display_data",
     "data": {
      "text/plain": "                                          Occupations Total Employed Women  \\\n0                            Total, 16 years and over         147795  46.8   \n1   Management, professional, and related occupations          63644  51.7   \n2   Management, business, and financial operations...          27143  44.6   \n3                              Management occupations          18564  40.4   \n4       Business and financial operations occupations           8578  53.9   \n5                Professional and related occupations          36502    57   \n6               Computer and mathematical occupations           5603  25.2   \n7              Other mathematical science occupations            103  37.8   \n8            Architecture and engineering occupations           3169  16.5   \n9      Life, physical, and social science occupations           1627  49.3   \n10           Community and social service occupations           2717  68.8   \n11                                  Legal occupations           1882  51.9   \n12       Education, training, and library occupations           8902  73.5   \n13  Arts, design, entertainment, sports, and media...           3042  51.3   \n14  Healthcare practitioners and technical occupat...           9559  74.4   \n15  Other healthcare practitioners and technical o...            100  62.8   \n16                                Service occupations          22853    57   \n17                     Healthcare support occupations           4790  85.3   \n18                     Protective service occupations           3024  23.6   \n19   Food preparation and serving related occupations           6556  54.4   \n20  Building and grounds cleaning and maintenance ...           5084  40.3   \n21              Personal care and service occupations           3399    77   \n22                       Sales and office occupations          29726  61.3   \n23                      Sales and related occupations          14168  48.7   \n24      Office and administrative support occupations          15558  72.7   \n25  Natural resources, construction, and maintenan...          13357   5.6   \n26         Farming, fishing, and forestry occupations           1045  24.1   \n27            Construction and extraction occupations           7710     4   \n28  Installation, maintenance, and repair occupations           4602   4.1   \n29  Production, transportation, and material movin...          18215  23.7   \n30                             Production occupations           7590  28.3   \n31     Transportation and material moving occupations          10625  20.5   \n\n   White Black or African American Asian Hispanic or Latino  \n0     78                      12.1   6.4               17.6  \n1   78.7                       9.7   8.6               10.4  \n2   81.7                       8.8   6.7               10.9  \n3   83.4                         8   5.8               10.7  \n4     78                      10.5   8.7               11.2  \n5   76.5                      10.5  10.1               10.1  \n6   65.4                       9.1    23                8.4  \n7   63.6                       9.3  25.7                6.2  \n8     78                         6  13.6               10.6  \n9   75.1                       6.5  14.9                8.5  \n10  72.7                      19.9   3.4               13.5  \n11  83.5                       8.6   5.6                8.3  \n12    82                        10   4.9               10.9  \n13    82                       8.5   5.9               11.2  \n14  75.6                      12.1   9.4                9.4  \n15  68.9                      17.3  10.8                3.5  \n16  72.9                        17   5.6                 25  \n17  64.1                      25.3   6.2               20.2  \n18  74.5                      19.4   2.5               15.9  \n19  74.8                      13.9   6.4               27.3  \n20  78.2                      14.2   3.1               37.9  \n21  72.8                      13.2  10.1               16.1  \n22  78.7                      12.5   5.1               17.3  \n23  80.2                      10.6   5.5               17.1  \n24  77.4                      14.3   4.7               17.4  \n25  86.7                       7.5   2.1               31.1  \n26    90                       4.3   1.6                 43  \n27  87.8                         7   1.6               35.7  \n28    84                       9.1   3.1               20.8  \n29  74.6                      16.7   4.8               23.8  \n30  77.8                      13.1   5.6               23.6  \n31  72.3                      19.4   4.2               23.9  ",
      "text/html": "<div>\n<style scoped>\n    .dataframe tbody tr th:only-of-type {\n        vertical-align: middle;\n    }\n\n    .dataframe tbody tr th {\n        vertical-align: top;\n    }\n\n    .dataframe thead th {\n        text-align: right;\n    }\n</style>\n<table border=\"1\" class=\"dataframe\">\n  <thead>\n    <tr style=\"text-align: right;\">\n      <th></th>\n      <th>Occupations</th>\n      <th>Total Employed</th>\n      <th>Women</th>\n      <th>White</th>\n      <th>Black or African American</th>\n      <th>Asian</th>\n      <th>Hispanic or Latino</th>\n    </tr>\n  </thead>\n  <tbody>\n    <tr>\n      <th>0</th>\n      <td>Total, 16 years and over</td>\n      <td>147795</td>\n      <td>46.8</td>\n      <td>78</td>\n      <td>12.1</td>\n      <td>6.4</td>\n      <td>17.6</td>\n    </tr>\n    <tr>\n      <th>1</th>\n      <td>Management, professional, and related occupations</td>\n      <td>63644</td>\n      <td>51.7</td>\n      <td>78.7</td>\n      <td>9.7</td>\n      <td>8.6</td>\n      <td>10.4</td>\n    </tr>\n    <tr>\n      <th>2</th>\n      <td>Management, business, and financial operations...</td>\n      <td>27143</td>\n      <td>44.6</td>\n      <td>81.7</td>\n      <td>8.8</td>\n      <td>6.7</td>\n      <td>10.9</td>\n    </tr>\n    <tr>\n      <th>3</th>\n      <td>Management occupations</td>\n      <td>18564</td>\n      <td>40.4</td>\n      <td>83.4</td>\n      <td>8</td>\n      <td>5.8</td>\n      <td>10.7</td>\n    </tr>\n    <tr>\n      <th>4</th>\n      <td>Business and financial operations occupations</td>\n      <td>8578</td>\n      <td>53.9</td>\n      <td>78</td>\n      <td>10.5</td>\n      <td>8.7</td>\n      <td>11.2</td>\n    </tr>\n    <tr>\n      <th>5</th>\n      <td>Professional and related occupations</td>\n      <td>36502</td>\n      <td>57</td>\n      <td>76.5</td>\n      <td>10.5</td>\n      <td>10.1</td>\n      <td>10.1</td>\n    </tr>\n    <tr>\n      <th>6</th>\n      <td>Computer and mathematical occupations</td>\n      <td>5603</td>\n      <td>25.2</td>\n      <td>65.4</td>\n      <td>9.1</td>\n      <td>23</td>\n      <td>8.4</td>\n    </tr>\n    <tr>\n      <th>7</th>\n      <td>Other mathematical science occupations</td>\n      <td>103</td>\n      <td>37.8</td>\n      <td>63.6</td>\n      <td>9.3</td>\n      <td>25.7</td>\n      <td>6.2</td>\n    </tr>\n    <tr>\n      <th>8</th>\n      <td>Architecture and engineering occupations</td>\n      <td>3169</td>\n      <td>16.5</td>\n      <td>78</td>\n      <td>6</td>\n      <td>13.6</td>\n      <td>10.6</td>\n    </tr>\n    <tr>\n      <th>9</th>\n      <td>Life, physical, and social science occupations</td>\n      <td>1627</td>\n      <td>49.3</td>\n      <td>75.1</td>\n      <td>6.5</td>\n      <td>14.9</td>\n      <td>8.5</td>\n    </tr>\n    <tr>\n      <th>10</th>\n      <td>Community and social service occupations</td>\n      <td>2717</td>\n      <td>68.8</td>\n      <td>72.7</td>\n      <td>19.9</td>\n      <td>3.4</td>\n      <td>13.5</td>\n    </tr>\n    <tr>\n      <th>11</th>\n      <td>Legal occupations</td>\n      <td>1882</td>\n      <td>51.9</td>\n      <td>83.5</td>\n      <td>8.6</td>\n      <td>5.6</td>\n      <td>8.3</td>\n    </tr>\n    <tr>\n      <th>12</th>\n      <td>Education, training, and library occupations</td>\n      <td>8902</td>\n      <td>73.5</td>\n      <td>82</td>\n      <td>10</td>\n      <td>4.9</td>\n      <td>10.9</td>\n    </tr>\n    <tr>\n      <th>13</th>\n      <td>Arts, design, entertainment, sports, and media...</td>\n      <td>3042</td>\n      <td>51.3</td>\n      <td>82</td>\n      <td>8.5</td>\n      <td>5.9</td>\n      <td>11.2</td>\n    </tr>\n    <tr>\n      <th>14</th>\n      <td>Healthcare practitioners and technical occupat...</td>\n      <td>9559</td>\n      <td>74.4</td>\n      <td>75.6</td>\n      <td>12.1</td>\n      <td>9.4</td>\n      <td>9.4</td>\n    </tr>\n    <tr>\n      <th>15</th>\n      <td>Other healthcare practitioners and technical o...</td>\n      <td>100</td>\n      <td>62.8</td>\n      <td>68.9</td>\n      <td>17.3</td>\n      <td>10.8</td>\n      <td>3.5</td>\n    </tr>\n    <tr>\n      <th>16</th>\n      <td>Service occupations</td>\n      <td>22853</td>\n      <td>57</td>\n      <td>72.9</td>\n      <td>17</td>\n      <td>5.6</td>\n      <td>25</td>\n    </tr>\n    <tr>\n      <th>17</th>\n      <td>Healthcare support occupations</td>\n      <td>4790</td>\n      <td>85.3</td>\n      <td>64.1</td>\n      <td>25.3</td>\n      <td>6.2</td>\n      <td>20.2</td>\n    </tr>\n    <tr>\n      <th>18</th>\n      <td>Protective service occupations</td>\n      <td>3024</td>\n      <td>23.6</td>\n      <td>74.5</td>\n      <td>19.4</td>\n      <td>2.5</td>\n      <td>15.9</td>\n    </tr>\n    <tr>\n      <th>19</th>\n      <td>Food preparation and serving related occupations</td>\n      <td>6556</td>\n      <td>54.4</td>\n      <td>74.8</td>\n      <td>13.9</td>\n      <td>6.4</td>\n      <td>27.3</td>\n    </tr>\n    <tr>\n      <th>20</th>\n      <td>Building and grounds cleaning and maintenance ...</td>\n      <td>5084</td>\n      <td>40.3</td>\n      <td>78.2</td>\n      <td>14.2</td>\n      <td>3.1</td>\n      <td>37.9</td>\n    </tr>\n    <tr>\n      <th>21</th>\n      <td>Personal care and service occupations</td>\n      <td>3399</td>\n      <td>77</td>\n      <td>72.8</td>\n      <td>13.2</td>\n      <td>10.1</td>\n      <td>16.1</td>\n    </tr>\n    <tr>\n      <th>22</th>\n      <td>Sales and office occupations</td>\n      <td>29726</td>\n      <td>61.3</td>\n      <td>78.7</td>\n      <td>12.5</td>\n      <td>5.1</td>\n      <td>17.3</td>\n    </tr>\n    <tr>\n      <th>23</th>\n      <td>Sales and related occupations</td>\n      <td>14168</td>\n      <td>48.7</td>\n      <td>80.2</td>\n      <td>10.6</td>\n      <td>5.5</td>\n      <td>17.1</td>\n    </tr>\n    <tr>\n      <th>24</th>\n      <td>Office and administrative support occupations</td>\n      <td>15558</td>\n      <td>72.7</td>\n      <td>77.4</td>\n      <td>14.3</td>\n      <td>4.7</td>\n      <td>17.4</td>\n    </tr>\n    <tr>\n      <th>25</th>\n      <td>Natural resources, construction, and maintenan...</td>\n      <td>13357</td>\n      <td>5.6</td>\n      <td>86.7</td>\n      <td>7.5</td>\n      <td>2.1</td>\n      <td>31.1</td>\n    </tr>\n    <tr>\n      <th>26</th>\n      <td>Farming, fishing, and forestry occupations</td>\n      <td>1045</td>\n      <td>24.1</td>\n      <td>90</td>\n      <td>4.3</td>\n      <td>1.6</td>\n      <td>43</td>\n    </tr>\n    <tr>\n      <th>27</th>\n      <td>Construction and extraction occupations</td>\n      <td>7710</td>\n      <td>4</td>\n      <td>87.8</td>\n      <td>7</td>\n      <td>1.6</td>\n      <td>35.7</td>\n    </tr>\n    <tr>\n      <th>28</th>\n      <td>Installation, maintenance, and repair occupations</td>\n      <td>4602</td>\n      <td>4.1</td>\n      <td>84</td>\n      <td>9.1</td>\n      <td>3.1</td>\n      <td>20.8</td>\n    </tr>\n    <tr>\n      <th>29</th>\n      <td>Production, transportation, and material movin...</td>\n      <td>18215</td>\n      <td>23.7</td>\n      <td>74.6</td>\n      <td>16.7</td>\n      <td>4.8</td>\n      <td>23.8</td>\n    </tr>\n    <tr>\n      <th>30</th>\n      <td>Production occupations</td>\n      <td>7590</td>\n      <td>28.3</td>\n      <td>77.8</td>\n      <td>13.1</td>\n      <td>5.6</td>\n      <td>23.6</td>\n    </tr>\n    <tr>\n      <th>31</th>\n      <td>Transportation and material moving occupations</td>\n      <td>10625</td>\n      <td>20.5</td>\n      <td>72.3</td>\n      <td>19.4</td>\n      <td>4.2</td>\n      <td>23.9</td>\n    </tr>\n  </tbody>\n</table>\n</div>"
     },
     "metadata": {}
    }
   ],
   "source": [
    "summary = data.iloc[8:]\n",
    "\n",
    "summary = pd.concat(\n",
    "                    [\n",
    "                     information, \n",
    "                     summary[summary['Occupations'].str.endswith('occupations', na=False)]\n",
    "                    ]\n",
    "                   ).reset_index(drop=True)\n",
    "display(summary)"
   ]
  },
  {
   "source": [
    "### Manipulate to categorical Data"
   ],
   "cell_type": "markdown",
   "metadata": {}
  },
  {
   "cell_type": "code",
   "execution_count": 4,
   "metadata": {},
   "outputs": [
    {
     "output_type": "execute_result",
     "data": {
      "text/plain": [
       "                                          Occupations Minority Count  \\\n",
       "0                            Total, 16 years and over           46.8   \n",
       "1   Management, professional, and related occupations           51.7   \n",
       "2   Management, business, and financial operations...           44.6   \n",
       "3                              Management occupations           40.4   \n",
       "4       Business and financial operations occupations           53.9   \n",
       "..                                                ...            ...   \n",
       "27            Construction and extraction occupations           35.7   \n",
       "28  Installation, maintenance, and repair occupations           20.8   \n",
       "29  Production, transportation, and material movin...           23.8   \n",
       "30                             Production occupations           23.6   \n",
       "31     Transportation and material moving occupations           23.9   \n",
       "\n",
       "              Minority Total Employed  \n",
       "0                Women         147795  \n",
       "1                Women          63644  \n",
       "2                Women          27143  \n",
       "3                Women          18564  \n",
       "4                Women           8578  \n",
       "..                 ...            ...  \n",
       "27  Hispanic or Latino           7710  \n",
       "28  Hispanic or Latino           4602  \n",
       "29  Hispanic or Latino          18215  \n",
       "30  Hispanic or Latino           7590  \n",
       "31  Hispanic or Latino          10625  \n",
       "\n",
       "[160 rows x 4 columns]"
      ],
      "text/html": "<div>\n<style scoped>\n    .dataframe tbody tr th:only-of-type {\n        vertical-align: middle;\n    }\n\n    .dataframe tbody tr th {\n        vertical-align: top;\n    }\n\n    .dataframe thead th {\n        text-align: right;\n    }\n</style>\n<table border=\"1\" class=\"dataframe\">\n  <thead>\n    <tr style=\"text-align: right;\">\n      <th></th>\n      <th>Occupations</th>\n      <th>Minority Count</th>\n      <th>Minority</th>\n      <th>Total Employed</th>\n    </tr>\n  </thead>\n  <tbody>\n    <tr>\n      <th>0</th>\n      <td>Total, 16 years and over</td>\n      <td>46.8</td>\n      <td>Women</td>\n      <td>147795</td>\n    </tr>\n    <tr>\n      <th>1</th>\n      <td>Management, professional, and related occupations</td>\n      <td>51.7</td>\n      <td>Women</td>\n      <td>63644</td>\n    </tr>\n    <tr>\n      <th>2</th>\n      <td>Management, business, and financial operations...</td>\n      <td>44.6</td>\n      <td>Women</td>\n      <td>27143</td>\n    </tr>\n    <tr>\n      <th>3</th>\n      <td>Management occupations</td>\n      <td>40.4</td>\n      <td>Women</td>\n      <td>18564</td>\n    </tr>\n    <tr>\n      <th>4</th>\n      <td>Business and financial operations occupations</td>\n      <td>53.9</td>\n      <td>Women</td>\n      <td>8578</td>\n    </tr>\n    <tr>\n      <th>...</th>\n      <td>...</td>\n      <td>...</td>\n      <td>...</td>\n      <td>...</td>\n    </tr>\n    <tr>\n      <th>27</th>\n      <td>Construction and extraction occupations</td>\n      <td>35.7</td>\n      <td>Hispanic or Latino</td>\n      <td>7710</td>\n    </tr>\n    <tr>\n      <th>28</th>\n      <td>Installation, maintenance, and repair occupations</td>\n      <td>20.8</td>\n      <td>Hispanic or Latino</td>\n      <td>4602</td>\n    </tr>\n    <tr>\n      <th>29</th>\n      <td>Production, transportation, and material movin...</td>\n      <td>23.8</td>\n      <td>Hispanic or Latino</td>\n      <td>18215</td>\n    </tr>\n    <tr>\n      <th>30</th>\n      <td>Production occupations</td>\n      <td>23.6</td>\n      <td>Hispanic or Latino</td>\n      <td>7590</td>\n    </tr>\n    <tr>\n      <th>31</th>\n      <td>Transportation and material moving occupations</td>\n      <td>23.9</td>\n      <td>Hispanic or Latino</td>\n      <td>10625</td>\n    </tr>\n  </tbody>\n</table>\n<p>160 rows × 4 columns</p>\n</div>"
     },
     "metadata": {},
     "execution_count": 4
    }
   ],
   "source": [
    "df_1 = pd.DataFrame(columns=['Occupations', 'Minority Count', 'Minority', 'Total Employed'])\n",
    "\n",
    "df_1['Occupations'] = summary.Occupations\n",
    "df_1['Minority Count'] = summary.Women\n",
    "df_1['Minority'] = 'Women'\n",
    "df_1['Total Employed'] = summary['Total Employed']\n",
    "\n",
    "df_2 = pd.DataFrame(columns=['Occupations', 'Minority Count', 'Minority', 'Total Employed'])\n",
    "\n",
    "df_2['Occupations'] = summary.Occupations\n",
    "df_2['Minority Count'] = summary.White\n",
    "df_2['Minority'] = 'White'\n",
    "df_2['Total Employed'] = summary['Total Employed']\n",
    "\n",
    "df_3 = pd.DataFrame(columns=['Occupations', 'Minority Count', 'Minority', 'Total Employed'])\n",
    "\n",
    "df_3['Occupations'] = summary.Occupations\n",
    "df_3['Minority Count'] = summary['Black or African American']\n",
    "df_3['Minority'] = 'Black or African American'\n",
    "df_3['Total Employed'] = summary['Total Employed']\n",
    "\n",
    "df_4 = pd.DataFrame(columns=['Occupations', 'Minority Count', 'Minority', 'Total Employed'])\n",
    "\n",
    "df_4['Occupations'] = summary.Occupations\n",
    "df_4['Minority Count'] = summary.Asian\n",
    "df_4['Minority'] = 'Asian'\n",
    "df_4['Total Employed'] = summary['Total Employed']\n",
    "\n",
    "df_5 = pd.DataFrame(columns=['Occupations', 'Minority Count', 'Minority', 'Total Employed'])\n",
    "\n",
    "df_5['Occupations'] = summary.Occupations\n",
    "df_5['Minority Count'] = summary['Hispanic or Latino']\n",
    "df_5['Minority'] = 'Hispanic or Latino'\n",
    "df_5['Total Employed'] = summary['Total Employed']\n",
    "\n",
    "cat_summary = pd.concat([df_1, df_2, df_3, df_4, df_5])\n",
    "cat_summary"
   ]
  },
  {
   "cell_type": "code",
   "execution_count": 13,
   "metadata": {},
   "outputs": [
    {
     "output_type": "execute_result",
     "data": {
      "text/plain": [
       "                                          Occupations Minority Count  \\\n",
       "0                            Total, 16 years and over           46.8   \n",
       "1   Management, professional, and related occupations           51.7   \n",
       "2                                 Service occupations             57   \n",
       "3                        Sales and office occupations           61.3   \n",
       "4   Natural resources, construction, and maintenan...            5.6   \n",
       "5   Production, transportation, and material movin...           23.7   \n",
       "6                            Total, 16 years and over             78   \n",
       "7   Management, professional, and related occupations           78.7   \n",
       "8                                 Service occupations           72.9   \n",
       "9                        Sales and office occupations           78.7   \n",
       "10  Natural resources, construction, and maintenan...           86.7   \n",
       "11  Production, transportation, and material movin...           74.6   \n",
       "12                           Total, 16 years and over           12.1   \n",
       "13  Management, professional, and related occupations            9.7   \n",
       "14                                Service occupations             17   \n",
       "15                       Sales and office occupations           12.5   \n",
       "16  Natural resources, construction, and maintenan...            7.5   \n",
       "17  Production, transportation, and material movin...           16.7   \n",
       "18                           Total, 16 years and over            6.4   \n",
       "19  Management, professional, and related occupations            8.6   \n",
       "20                                Service occupations            5.6   \n",
       "21                       Sales and office occupations            5.1   \n",
       "22  Natural resources, construction, and maintenan...            2.1   \n",
       "23  Production, transportation, and material movin...            4.8   \n",
       "24                           Total, 16 years and over           17.6   \n",
       "25  Management, professional, and related occupations           10.4   \n",
       "26                                Service occupations             25   \n",
       "27                       Sales and office occupations           17.3   \n",
       "28  Natural resources, construction, and maintenan...           31.1   \n",
       "29  Production, transportation, and material movin...           23.8   \n",
       "\n",
       "                     Minority Total Employed  \n",
       "0                       Women         147795  \n",
       "1                       Women          63644  \n",
       "2                       Women          22853  \n",
       "3                       Women          29726  \n",
       "4                       Women          13357  \n",
       "5                       Women          18215  \n",
       "6                       White         147795  \n",
       "7                       White          63644  \n",
       "8                       White          22853  \n",
       "9                       White          29726  \n",
       "10                      White          13357  \n",
       "11                      White          18215  \n",
       "12  Black or African American         147795  \n",
       "13  Black or African American          63644  \n",
       "14  Black or African American          22853  \n",
       "15  Black or African American          29726  \n",
       "16  Black or African American          13357  \n",
       "17  Black or African American          18215  \n",
       "18                      Asian         147795  \n",
       "19                      Asian          63644  \n",
       "20                      Asian          22853  \n",
       "21                      Asian          29726  \n",
       "22                      Asian          13357  \n",
       "23                      Asian          18215  \n",
       "24         Hispanic or Latino         147795  \n",
       "25         Hispanic or Latino          63644  \n",
       "26         Hispanic or Latino          22853  \n",
       "27         Hispanic or Latino          29726  \n",
       "28         Hispanic or Latino          13357  \n",
       "29         Hispanic or Latino          18215  "
      ],
      "text/html": "<div>\n<style scoped>\n    .dataframe tbody tr th:only-of-type {\n        vertical-align: middle;\n    }\n\n    .dataframe tbody tr th {\n        vertical-align: top;\n    }\n\n    .dataframe thead th {\n        text-align: right;\n    }\n</style>\n<table border=\"1\" class=\"dataframe\">\n  <thead>\n    <tr style=\"text-align: right;\">\n      <th></th>\n      <th>Occupations</th>\n      <th>Minority Count</th>\n      <th>Minority</th>\n      <th>Total Employed</th>\n    </tr>\n  </thead>\n  <tbody>\n    <tr>\n      <th>0</th>\n      <td>Total, 16 years and over</td>\n      <td>46.8</td>\n      <td>Women</td>\n      <td>147795</td>\n    </tr>\n    <tr>\n      <th>1</th>\n      <td>Management, professional, and related occupations</td>\n      <td>51.7</td>\n      <td>Women</td>\n      <td>63644</td>\n    </tr>\n    <tr>\n      <th>2</th>\n      <td>Service occupations</td>\n      <td>57</td>\n      <td>Women</td>\n      <td>22853</td>\n    </tr>\n    <tr>\n      <th>3</th>\n      <td>Sales and office occupations</td>\n      <td>61.3</td>\n      <td>Women</td>\n      <td>29726</td>\n    </tr>\n    <tr>\n      <th>4</th>\n      <td>Natural resources, construction, and maintenan...</td>\n      <td>5.6</td>\n      <td>Women</td>\n      <td>13357</td>\n    </tr>\n    <tr>\n      <th>5</th>\n      <td>Production, transportation, and material movin...</td>\n      <td>23.7</td>\n      <td>Women</td>\n      <td>18215</td>\n    </tr>\n    <tr>\n      <th>6</th>\n      <td>Total, 16 years and over</td>\n      <td>78</td>\n      <td>White</td>\n      <td>147795</td>\n    </tr>\n    <tr>\n      <th>7</th>\n      <td>Management, professional, and related occupations</td>\n      <td>78.7</td>\n      <td>White</td>\n      <td>63644</td>\n    </tr>\n    <tr>\n      <th>8</th>\n      <td>Service occupations</td>\n      <td>72.9</td>\n      <td>White</td>\n      <td>22853</td>\n    </tr>\n    <tr>\n      <th>9</th>\n      <td>Sales and office occupations</td>\n      <td>78.7</td>\n      <td>White</td>\n      <td>29726</td>\n    </tr>\n    <tr>\n      <th>10</th>\n      <td>Natural resources, construction, and maintenan...</td>\n      <td>86.7</td>\n      <td>White</td>\n      <td>13357</td>\n    </tr>\n    <tr>\n      <th>11</th>\n      <td>Production, transportation, and material movin...</td>\n      <td>74.6</td>\n      <td>White</td>\n      <td>18215</td>\n    </tr>\n    <tr>\n      <th>12</th>\n      <td>Total, 16 years and over</td>\n      <td>12.1</td>\n      <td>Black or African American</td>\n      <td>147795</td>\n    </tr>\n    <tr>\n      <th>13</th>\n      <td>Management, professional, and related occupations</td>\n      <td>9.7</td>\n      <td>Black or African American</td>\n      <td>63644</td>\n    </tr>\n    <tr>\n      <th>14</th>\n      <td>Service occupations</td>\n      <td>17</td>\n      <td>Black or African American</td>\n      <td>22853</td>\n    </tr>\n    <tr>\n      <th>15</th>\n      <td>Sales and office occupations</td>\n      <td>12.5</td>\n      <td>Black or African American</td>\n      <td>29726</td>\n    </tr>\n    <tr>\n      <th>16</th>\n      <td>Natural resources, construction, and maintenan...</td>\n      <td>7.5</td>\n      <td>Black or African American</td>\n      <td>13357</td>\n    </tr>\n    <tr>\n      <th>17</th>\n      <td>Production, transportation, and material movin...</td>\n      <td>16.7</td>\n      <td>Black or African American</td>\n      <td>18215</td>\n    </tr>\n    <tr>\n      <th>18</th>\n      <td>Total, 16 years and over</td>\n      <td>6.4</td>\n      <td>Asian</td>\n      <td>147795</td>\n    </tr>\n    <tr>\n      <th>19</th>\n      <td>Management, professional, and related occupations</td>\n      <td>8.6</td>\n      <td>Asian</td>\n      <td>63644</td>\n    </tr>\n    <tr>\n      <th>20</th>\n      <td>Service occupations</td>\n      <td>5.6</td>\n      <td>Asian</td>\n      <td>22853</td>\n    </tr>\n    <tr>\n      <th>21</th>\n      <td>Sales and office occupations</td>\n      <td>5.1</td>\n      <td>Asian</td>\n      <td>29726</td>\n    </tr>\n    <tr>\n      <th>22</th>\n      <td>Natural resources, construction, and maintenan...</td>\n      <td>2.1</td>\n      <td>Asian</td>\n      <td>13357</td>\n    </tr>\n    <tr>\n      <th>23</th>\n      <td>Production, transportation, and material movin...</td>\n      <td>4.8</td>\n      <td>Asian</td>\n      <td>18215</td>\n    </tr>\n    <tr>\n      <th>24</th>\n      <td>Total, 16 years and over</td>\n      <td>17.6</td>\n      <td>Hispanic or Latino</td>\n      <td>147795</td>\n    </tr>\n    <tr>\n      <th>25</th>\n      <td>Management, professional, and related occupations</td>\n      <td>10.4</td>\n      <td>Hispanic or Latino</td>\n      <td>63644</td>\n    </tr>\n    <tr>\n      <th>26</th>\n      <td>Service occupations</td>\n      <td>25</td>\n      <td>Hispanic or Latino</td>\n      <td>22853</td>\n    </tr>\n    <tr>\n      <th>27</th>\n      <td>Sales and office occupations</td>\n      <td>17.3</td>\n      <td>Hispanic or Latino</td>\n      <td>29726</td>\n    </tr>\n    <tr>\n      <th>28</th>\n      <td>Natural resources, construction, and maintenan...</td>\n      <td>31.1</td>\n      <td>Hispanic or Latino</td>\n      <td>13357</td>\n    </tr>\n    <tr>\n      <th>29</th>\n      <td>Production, transportation, and material movin...</td>\n      <td>23.8</td>\n      <td>Hispanic or Latino</td>\n      <td>18215</td>\n    </tr>\n  </tbody>\n</table>\n</div>"
     },
     "metadata": {},
     "execution_count": 13
    }
   ],
   "source": [
    "base = ['Total, 16 years and over',\n",
    "        'Management, professional, and related occupations',\n",
    "        'Service occupations',\n",
    "        'Sales and office occupations',\n",
    "        'Natural resources, construction, and maintenance occupations',\n",
    "        'Production, transportation, and material moving occupations'\n",
    "       ]\n",
    "\n",
    "cat_summ = cat_summary[cat_summary.Occupations.isin(base)].reset_index(drop=True)\n",
    "cat_summ"
   ]
  },
  {
   "source": [
    "## Exports"
   ],
   "cell_type": "markdown",
   "metadata": {}
  },
  {
   "cell_type": "code",
   "execution_count": 5,
   "metadata": {},
   "outputs": [],
   "source": [
    "information.T.to_csv('summary.csv')"
   ]
  },
  {
   "cell_type": "code",
   "execution_count": 6,
   "metadata": {},
   "outputs": [],
   "source": [
    "summary.to_excel(\"total_summarized.xlsx\",\n",
    "                  sheet_name='Summarized_Employement_Data')"
   ]
  },
  {
   "cell_type": "code",
   "execution_count": 7,
   "metadata": {},
   "outputs": [],
   "source": [
    "cat_summary.to_excel('total_summarized_categorical.xlsx',\n",
    "                    sheet_name='Categorical Summary')"
   ]
  },
  {
   "cell_type": "code",
   "execution_count": 15,
   "metadata": {},
   "outputs": [],
   "source": [
    "cat_summ.to_excel('base_summarized_categorical.xlsx',\n",
    "                    sheet_name='Base Categorical Summary')"
   ]
  },
  {
   "cell_type": "code",
   "execution_count": null,
   "metadata": {},
   "outputs": [],
   "source": []
  }
 ],
 "metadata": {
  "kernelspec": {
   "display_name": "Python 3",
   "language": "python",
   "name": "python3"
  },
  "language_info": {
   "codemirror_mode": {
    "name": "ipython",
    "version": 3
   },
   "file_extension": ".py",
   "mimetype": "text/x-python",
   "name": "python",
   "nbconvert_exporter": "python",
   "pygments_lexer": "ipython3",
   "version": "3.8.5-final"
  }
 },
 "nbformat": 4,
 "nbformat_minor": 4
}